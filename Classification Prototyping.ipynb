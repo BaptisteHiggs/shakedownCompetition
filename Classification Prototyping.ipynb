{
 "cells": [
  {
   "cell_type": "code",
   "execution_count": 1,
   "metadata": {},
   "outputs": [],
   "source": [
    "# Importing dataframes and libs\n",
    "import pandas as  pd\n",
    "import numpy as np\n",
    "from dataframeGen import cubicleData_allInfo, cubicleData_essentialInfo_structured, cubicleData_essentialInfo_flat"
   ]
  },
  {
   "cell_type": "code",
   "execution_count": 2,
   "metadata": {},
   "outputs": [
    {
     "name": "stderr",
     "output_type": "stream",
     "text": [
      "Using TensorFlow backend.\n"
     ]
    }
   ],
   "source": [
    "# CNN imports\n",
    "import keras\n",
    "from keras.datasets import mnist\n",
    "from keras.models import Sequential\n",
    "from keras.layers import Dense, Dropout, Flatten\n",
    "from keras.layers import Conv2D, MaxPooling2D"
   ]
  },
  {
   "cell_type": "code",
   "execution_count": 19,
   "metadata": {},
   "outputs": [
    {
     "name": "stdout",
     "output_type": "stream",
     "text": [
      "x_train shape: (60000, 28, 28, 1)\n",
      "60000 train samples\n",
      "10000 test samples\n"
     ]
    }
   ],
   "source": [
    "batch_size = 128\n",
    "num_classes = 10\n",
    "epochs = 12\n",
    "\n",
    "# input image dimensions:\n",
    "img_rows, img_cols = 28, 28\n",
    "\n",
    "(x_train, y_train), (x_test, y_test) = mnist.load_data()\n",
    "\n",
    "x_train = x_train.reshape(60000, img_rows, img_cols, 1)\n",
    "x_test = x_test.reshape(10000, img_rows, img_cols, 1)\n",
    "\n",
    "print('x_train shape:', x_train.shape)\n",
    "print(x_train.shape[0], 'train samples')\n",
    "print(x_test.shape[0], 'test samples')\n",
    "\n",
    "y_train = keras.utils.to_categorical(y_train, num_classes)\n",
    "y_test = keras.utils.to_categorical(y_test, num_classes)"
   ]
  },
  {
   "cell_type": "code",
   "execution_count": 20,
   "metadata": {},
   "outputs": [],
   "source": [
    "model = Sequential()\n",
    "model.add(Conv2D(32, kernel_size=(3, 3),\n",
    "                 activation='relu',\n",
    "                 input_shape=(28,28,1)))\n",
    "model.add(Conv2D(64, (3, 3), activation='relu'))\n",
    "model.add(MaxPooling2D(pool_size=(2, 2)))\n",
    "model.add(Dropout(0.25))\n",
    "model.add(Flatten())\n",
    "model.add(Dense(128, activation='relu'))\n",
    "model.add(Dropout(0.5))\n",
    "model.add(Dense(num_classes, activation='softmax'))"
   ]
  },
  {
   "cell_type": "code",
   "execution_count": 21,
   "metadata": {},
   "outputs": [
    {
     "name": "stdout",
     "output_type": "stream",
     "text": [
      "Train on 60000 samples, validate on 10000 samples\n",
      "Epoch 1/12\n",
      "60000/60000 [==============================] - 159s 3ms/step - loss: 0.9630 - acc: 0.8797 - val_loss: 0.0641 - val_acc: 0.9798\n",
      "Epoch 2/12\n",
      "60000/60000 [==============================] - 160s 3ms/step - loss: 0.1099 - acc: 0.9685 - val_loss: 0.0427 - val_acc: 0.9868\n",
      "Epoch 3/12\n",
      "60000/60000 [==============================] - 159s 3ms/step - loss: 0.0784 - acc: 0.9778 - val_loss: 0.0433 - val_acc: 0.9865\n",
      "Epoch 4/12\n",
      "60000/60000 [==============================] - 159s 3ms/step - loss: 0.0625 - acc: 0.9818 - val_loss: 0.0355 - val_acc: 0.9892\n",
      "Epoch 5/12\n",
      "60000/60000 [==============================] - 159s 3ms/step - loss: 0.0532 - acc: 0.9841 - val_loss: 0.0384 - val_acc: 0.9892\n",
      "Epoch 6/12\n",
      "60000/60000 [==============================] - 160s 3ms/step - loss: 0.0456 - acc: 0.9866 - val_loss: 0.0343 - val_acc: 0.9902\n",
      "Epoch 7/12\n",
      "60000/60000 [==============================] - 157s 3ms/step - loss: 0.0400 - acc: 0.9883 - val_loss: 0.0378 - val_acc: 0.9902\n",
      "Epoch 8/12\n",
      "60000/60000 [==============================] - 161s 3ms/step - loss: 0.0379 - acc: 0.9890 - val_loss: 0.0372 - val_acc: 0.9909\n",
      "Epoch 9/12\n",
      "60000/60000 [==============================] - 161s 3ms/step - loss: 0.0351 - acc: 0.9900 - val_loss: 0.0416 - val_acc: 0.9891\n",
      "Epoch 10/12\n",
      "60000/60000 [==============================] - 160s 3ms/step - loss: 0.0320 - acc: 0.9905 - val_loss: 0.0348 - val_acc: 0.9905\n",
      "Epoch 11/12\n",
      "60000/60000 [==============================] - 160s 3ms/step - loss: 0.0278 - acc: 0.9919 - val_loss: 0.0356 - val_acc: 0.9905\n",
      "Epoch 12/12\n",
      "60000/60000 [==============================] - 159s 3ms/step - loss: 0.0293 - acc: 0.9912 - val_loss: 0.0341 - val_acc: 0.9910\n",
      "Test loss: 0.03408609724314333\n",
      "Test accuracy: 0.991\n"
     ]
    }
   ],
   "source": [
    "\n",
    "model.compile(loss=keras.losses.categorical_crossentropy,\n",
    "              optimizer=keras.optimizers.Adadelta(),\n",
    "              metrics=['accuracy'])\n",
    "\n",
    "model.fit(x_train, y_train,\n",
    "          batch_size=batch_size,\n",
    "          epochs=epochs,\n",
    "          verbose=1,\n",
    "          validation_data=(x_test, y_test))\n",
    "score = model.evaluate(x_test, y_test, verbose=0)\n",
    "print('Test loss:', score[0])\n",
    "print('Test accuracy:', score[1])"
   ]
  },
  {
   "cell_type": "code",
   "execution_count": 24,
   "metadata": {},
   "outputs": [
    {
     "data": {
      "text/plain": [
       "{'name': 'sequential_1',\n",
       " 'trainable': True,\n",
       " '_is_compiled': True,\n",
       " '_expects_training_arg': False,\n",
       " '_initial_weights': None,\n",
       " 'supports_masking': False,\n",
       " 'optimizer': <keras.optimizers.Adadelta at 0x220cfa82e80>,\n",
       " '_updates': [],\n",
       " '_losses': [],\n",
       " '_per_input_losses': {},\n",
       " '_per_input_updates': {},\n",
       " '_layers': [<keras.engine.input_layer.InputLayer at 0x220cfabf5f8>,\n",
       "  <keras.layers.convolutional.Conv2D at 0x220cfabf358>,\n",
       "  <keras.layers.convolutional.Conv2D at 0x220cfabf5c0>,\n",
       "  <keras.layers.pooling.MaxPooling2D at 0x220cfae3f60>,\n",
       "  <keras.layers.core.Dropout at 0x220cfa72748>,\n",
       "  <keras.layers.core.Flatten at 0x220cfa72278>,\n",
       "  <keras.layers.core.Dense at 0x220cfae3cc0>,\n",
       "  <keras.layers.core.Dropout at 0x220d5ec7710>,\n",
       "  <keras.layers.core.Dense at 0x220d5f35358>],\n",
       " '_outbound_nodes': [],\n",
       " '_inbound_nodes': [<keras.engine.base_layer.Node at 0x220cfae3588>],\n",
       " '_is_graph_network': True,\n",
       " '_uses_inputs_arg': True,\n",
       " 'outputs': [<tf.Tensor 'dense_2/Softmax:0' shape=(?, 10) dtype=float32>],\n",
       " 'inputs': [<tf.Tensor 'conv2d_1_input:0' shape=(?, 28, 28, 1) dtype=float32>],\n",
       " '_built': True,\n",
       " '_build_input_shape': None,\n",
       " '_compute_previous_mask': True,\n",
       " '_input_layers': [<keras.engine.input_layer.InputLayer at 0x220cfabf5f8>],\n",
       " '_output_layers': [<keras.layers.core.Dense at 0x220d5f35358>],\n",
       " '_input_coordinates': [(<keras.engine.input_layer.InputLayer at 0x220cfabf5f8>,\n",
       "   0,\n",
       "   0)],\n",
       " '_output_coordinates': [(<keras.layers.core.Dense at 0x220d5f35358>, 0, 0)],\n",
       " '_output_mask_cache': {'2339946363368_1588372624': None},\n",
       " '_output_tensor_cache': {},\n",
       " '_output_shape_cache': {},\n",
       " '_network_nodes': {'conv2d_1_ib-0',\n",
       "  'conv2d_1_input_ib-0',\n",
       "  'conv2d_2_ib-0',\n",
       "  'dense_1_ib-0',\n",
       "  'dense_2_ib-0',\n",
       "  'dropout_1_ib-0',\n",
       "  'dropout_2_ib-0',\n",
       "  'flatten_1_ib-0',\n",
       "  'max_pooling2d_1_ib-0'},\n",
       " '_nodes_by_depth': {0: [<keras.engine.base_layer.Node at 0x220d5f76f60>],\n",
       "  1: [<keras.engine.base_layer.Node at 0x220d5f35b00>],\n",
       "  2: [<keras.engine.base_layer.Node at 0x220d5f35e48>],\n",
       "  3: [<keras.engine.base_layer.Node at 0x220d5f05390>],\n",
       "  4: [<keras.engine.base_layer.Node at 0x220b75f4320>],\n",
       "  5: [<keras.engine.base_layer.Node at 0x220d5ec7e80>],\n",
       "  6: [<keras.engine.base_layer.Node at 0x220d5ec7b70>],\n",
       "  7: [<keras.engine.base_layer.Node at 0x220cfabf390>],\n",
       "  8: [<keras.engine.base_layer.Node at 0x220cfa806d8>]},\n",
       " '_layers_by_depth': {0: [<keras.layers.core.Dense at 0x220d5f35358>],\n",
       "  1: [<keras.layers.core.Dropout at 0x220d5ec7710>],\n",
       "  2: [<keras.layers.core.Dense at 0x220cfae3cc0>],\n",
       "  3: [<keras.layers.core.Flatten at 0x220cfa72278>],\n",
       "  4: [<keras.layers.core.Dropout at 0x220cfa72748>],\n",
       "  5: [<keras.layers.pooling.MaxPooling2D at 0x220cfae3f60>],\n",
       "  6: [<keras.layers.convolutional.Conv2D at 0x220cfabf5c0>],\n",
       "  7: [<keras.layers.convolutional.Conv2D at 0x220cfabf358>],\n",
       "  8: [<keras.engine.input_layer.InputLayer at 0x220cfabf5f8>]},\n",
       " 'input_names': ['conv2d_1_input'],\n",
       " 'output_names': ['dense_2'],\n",
       " '_feed_input_names': ['conv2d_1_input'],\n",
       " '_feed_inputs': [<tf.Tensor 'conv2d_1_input:0' shape=(?, 28, 28, 1) dtype=float32>],\n",
       " '_feed_input_shapes': [(None, 28, 28, 1)],\n",
       " 'loss': <function keras.losses.categorical_crossentropy(y_true, y_pred)>,\n",
       " 'metrics': ['accuracy'],\n",
       " 'loss_weights': None,\n",
       " 'sample_weight_mode': None,\n",
       " 'weighted_metrics': None,\n",
       " 'loss_functions': [<function keras.losses.categorical_crossentropy(y_true, y_pred)>],\n",
       " '_feed_outputs': [<tf.Tensor 'dense_2/Softmax:0' shape=(?, 10) dtype=float32>],\n",
       " '_feed_output_names': ['dense_2'],\n",
       " '_feed_output_shapes': [(None, 10)],\n",
       " '_feed_loss_fns': [<function keras.losses.categorical_crossentropy(y_true, y_pred)>],\n",
       " 'targets': [<tf.Tensor 'dense_2_target:0' shape=(?, ?) dtype=float32>],\n",
       " '_feed_targets': [<tf.Tensor 'dense_2_target:0' shape=(?, ?) dtype=float32>],\n",
       " 'sample_weight_modes': [None],\n",
       " '_feed_sample_weight_modes': [None],\n",
       " 'metrics_names': ['loss', 'acc'],\n",
       " 'metrics_tensors': [<tf.Tensor 'metrics/acc/Mean:0' shape=() dtype=float32>],\n",
       " 'metrics_updates': [],\n",
       " 'stateful_metric_names': [],\n",
       " 'stateful_metric_functions': [],\n",
       " 'total_loss': <tf.Tensor 'loss/mul:0' shape=() dtype=float32>,\n",
       " 'sample_weights': [<tf.Tensor 'dense_2_sample_weights:0' shape=(?,) dtype=float32>],\n",
       " '_feed_sample_weights': [<tf.Tensor 'dense_2_sample_weights:0' shape=(?,) dtype=float32>],\n",
       " '_function_kwargs': {},\n",
       " 'train_function': <keras.backend.tensorflow_backend.Function at 0x220cfa82c18>,\n",
       " 'test_function': <keras.backend.tensorflow_backend.Function at 0x220cfa82dd8>,\n",
       " 'predict_function': None,\n",
       " '_collected_trainable_weights': [<tf.Variable 'conv2d_1/kernel:0' shape=(3, 3, 1, 32) dtype=float32_ref>,\n",
       "  <tf.Variable 'conv2d_1/bias:0' shape=(32,) dtype=float32_ref>,\n",
       "  <tf.Variable 'conv2d_2/kernel:0' shape=(3, 3, 32, 64) dtype=float32_ref>,\n",
       "  <tf.Variable 'conv2d_2/bias:0' shape=(64,) dtype=float32_ref>,\n",
       "  <tf.Variable 'dense_1/kernel:0' shape=(9216, 128) dtype=float32_ref>,\n",
       "  <tf.Variable 'dense_1/bias:0' shape=(128,) dtype=float32_ref>,\n",
       "  <tf.Variable 'dense_2/kernel:0' shape=(128, 10) dtype=float32_ref>,\n",
       "  <tf.Variable 'dense_2/bias:0' shape=(10,) dtype=float32_ref>],\n",
       " 'history': <keras.callbacks.History at 0x220cfa82a58>,\n",
       " 'stop_training': False}"
      ]
     },
     "execution_count": 24,
     "metadata": {},
     "output_type": "execute_result"
    }
   ],
   "source": [
    "model.__dict__"
   ]
  }
 ],
 "metadata": {
  "kernelspec": {
   "display_name": "Python 3",
   "language": "python",
   "name": "python3"
  },
  "language_info": {
   "codemirror_mode": {
    "name": "ipython",
    "version": 3
   },
   "file_extension": ".py",
   "mimetype": "text/x-python",
   "name": "python",
   "nbconvert_exporter": "python",
   "pygments_lexer": "ipython3",
   "version": "3.6.6"
  }
 },
 "nbformat": 4,
 "nbformat_minor": 2
}
